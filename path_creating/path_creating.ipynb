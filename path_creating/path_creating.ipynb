{
 "cells": [
  {
   "cell_type": "markdown",
   "metadata": {},
   "source": [
    "\n",
    "# **cityscapes dataset path creating**\n",
    "### - for foreground\n",
    "### - for background\n"
   ]
  },
  {
   "cell_type": "code",
   "execution_count": 1,
   "metadata": {},
   "outputs": [],
   "source": [
    "import cv2\n",
    "import numpy as np\n",
    "import os, glob\n",
    "import time\n",
    "import json\n",
    "import csv"
   ]
  },
  {
   "cell_type": "code",
   "execution_count": 2,
   "metadata": {},
   "outputs": [],
   "source": [
    "import matplotlib.pyplot as plt \n",
    "%matplotlib inline"
   ]
  },
  {
   "cell_type": "code",
   "execution_count": 3,
   "metadata": {},
   "outputs": [],
   "source": [
    "# https://github.com/mcordts/cityscapesScripts/blob/master/cityscapesscripts/helpers/labels.py\n",
    "\n",
    "# |    name    |  id  |\n",
    "# _____________________\n",
    "# |  'ground'  |  6   |\n",
    "# |   'road'   |  7   |\n",
    "# | 'sidewalk' |  8   |\n",
    "# |  'person'  | 24   |\n",
    "\n",
    "\n",
    "fgNames = ['person']\n",
    "bgNames = ['ground','road','sidewalk']"
   ]
  },
  {
   "cell_type": "markdown",
   "metadata": {},
   "source": [
    "### **Creating of data path list with objects**"
   ]
  },
  {
   "cell_type": "code",
   "execution_count": 4,
   "metadata": {},
   "outputs": [],
   "source": [
    "json_directory = '/home/admin1/Document/CITYSCAPES_DATASET/gtFine_trainvaltest/gtFine/'\n",
    "fgPaths = '/home/admin1/Programming/HIWI_MRT/image_data_augmentation/basic_approaches/citysc_fgPaths.csv'\n",
    "bgPaths = '/home/admin1/Programming/HIWI_MRT/image_data_augmentation/basic_approaches/citysc_bgPaths.csv'"
   ]
  },
  {
   "cell_type": "code",
   "execution_count": 5,
   "metadata": {},
   "outputs": [],
   "source": [
    "json_paths = glob.glob(os.path.join(json_directory, '*','*','*.json'))"
   ]
  },
  {
   "cell_type": "code",
   "execution_count": 6,
   "metadata": {},
   "outputs": [],
   "source": [
    "def pathWriter(data, path):\n",
    "    # Write paths to a CSV file\n",
    "    with open(path, \"w\", newline='') as csv_file:\n",
    "        writer = csv.writer(csv_file, delimiter=',')\n",
    "        for line in data:\n",
    "            writer.writerow(line)"
   ]
  },
  {
   "cell_type": "code",
   "execution_count": 7,
   "metadata": {},
   "outputs": [],
   "source": [
    "def pathCreater(json_path):\n",
    "    data_name = '_'.join(json_path.split('/')[-1].split('_')[:-2])\n",
    "    mask_directory = '/'.join(json_path.split('/')[:-1])\n",
    "    img_directory =  mask_directory.replace('gtFine_trainvaltest/gtFine', 'leftImg8bit_trainvaltest/leftImg8bit')\n",
    "    mask_path = os.path.join(mask_directory, str(data_name) + '_gtFine_labelIds.png')\n",
    "    img_path = os.path.join(img_directory, str(data_name) + '_leftImg8bit.png')\n",
    "    \n",
    "    return img_path, mask_path"
   ]
  },
  {
   "cell_type": "code",
   "execution_count": 8,
   "metadata": {},
   "outputs": [
    {
     "name": "stdout",
     "output_type": "stream",
     "text": [
      "FG data:  1936\n",
      "BG data:  3475\n",
      "------------------- 5000 done --------------------\n",
      "----------------- 17.12 seconds ----------------\n"
     ]
    }
   ],
   "source": [
    "# MAIN\n",
    "if __name__ == '__main__':\n",
    "    start_time = time.time()\n",
    "    \n",
    "    dataNumb   = 0\n",
    "    fgCounter  = 0\n",
    "    bgCounter  = 0\n",
    "    fgList     = []\n",
    "    bgList     = []\n",
    "    # Ratio between object and background area\n",
    "    # Min ratio for object chosing\n",
    "    # obj_bg_ratio = 0 means chosing objects with different size\n",
    "    # can change obj_bg_ratio, for Example obj_bg_ratio = 0.01\n",
    "    obj_bg_ratio = 0.001    #obj/img\n",
    "    for json_path in json_paths:  \n",
    "        with open(json_path) as json_file:\n",
    "            json_data = json.load(json_file)\n",
    "            obj_key = 'objects'\n",
    "            if obj_key in  json_data:\n",
    "                if ('imgHeight' in json_data) & ('imgWidth' in json_data):\n",
    "                    imgArea = int(json_data['imgHeight'] * json_data['imgWidth'])\n",
    "                else:\n",
    "                    imgArea = 2097152\n",
    "                \n",
    "                for label in json_data[obj_key]:\n",
    "                    if any([className in label['label'] for className in fgNames]):  \n",
    "                        obj_polygon = np.expand_dims(np.array(label['polygon']), axis = 1)   \n",
    "                        objArea = cv2.contourArea(obj_polygon)   \n",
    "                        current_obj_bg_ratio = objArea/imgArea\n",
    "                        if current_obj_bg_ratio >= obj_bg_ratio:\n",
    "                            img_path, mask_path = pathCreater(json_path)\n",
    "                            act_data = [img_path, mask_path]\n",
    "                            fgList.append(act_data)\n",
    "                            fgCounter += 1\n",
    "                            break\n",
    "                                           \n",
    "                for label in json_data[obj_key]:\n",
    "                    if any([className in label['label'] for className in bgNames]):              \n",
    "                        img_path, mask_path = pathCreater(json_path)\n",
    "                        act_data = [img_path, mask_path]\n",
    "                        bgList.append(act_data)\n",
    "                        bgCounter += 1\n",
    "                        break\n",
    "        dataNumb += 1\n",
    "    \n",
    "    pathWriter(fgList, fgPaths)\n",
    "    pathWriter(bgList, bgPaths)\n",
    "    \n",
    "    print('FG data: ',fgCounter)\n",
    "    print('BG data: ',bgCounter)\n",
    "    \n",
    "    print(\"------------------- %s done --------------------\" % (dataNumb))\n",
    "    print(\"----------------- %s seconds ----------------\" % ( round((time.time() - start_time), 2) ))"
   ]
  },
  {
   "cell_type": "code",
   "execution_count": null,
   "metadata": {},
   "outputs": [],
   "source": []
  }
 ],
 "metadata": {
  "kernelspec": {
   "display_name": "env_dj",
   "language": "python",
   "name": "env_dj"
  },
  "language_info": {
   "codemirror_mode": {
    "name": "ipython",
    "version": 3
   },
   "file_extension": ".py",
   "mimetype": "text/x-python",
   "name": "python",
   "nbconvert_exporter": "python",
   "pygments_lexer": "ipython3",
   "version": "3.6.8"
  }
 },
 "nbformat": 4,
 "nbformat_minor": 2
}
