{
 "cells": [
  {
   "cell_type": "markdown",
   "metadata": {},
   "source": [
    "### Image Data Augmentation\n",
    "# **Basic Image Manipulations**\n"
   ]
  },
  {
   "cell_type": "code",
   "execution_count": 1,
   "metadata": {},
   "outputs": [],
   "source": [
    "import os\n",
    "import cv2\n",
    "import csv\n",
    "import glob\n",
    "import time\n",
    "import random\n",
    "import numpy as np\n",
    "import matplotlib.pyplot as plt \n",
    "%matplotlib inline\n",
    "\n",
    "from geometric_transformations import *"
   ]
  },
  {
   "cell_type": "code",
   "execution_count": 2,
   "metadata": {},
   "outputs": [],
   "source": [
    "# https://github.com/mcordts/cityscapesScripts/blob/master/cityscapesscripts/helpers/labels.py\n",
    "\n",
    "# |    name    |  id  |\n",
    "# _____________________\n",
    "# |  'ground'  |  6   |\n",
    "# |   'road'   |  7   |\n",
    "# | 'sidewalk' |  8   |\n",
    "# |  'person'  | 24   |\n",
    "\n",
    "# Background\n",
    "road_value = 7\n",
    "ground_value = 6\n",
    "sidewalk_value = 8\n",
    "\n",
    "# Foreground\n",
    "person_value = 24\n",
    "\n",
    "\n",
    "dataset_size = 7"
   ]
  },
  {
   "cell_type": "markdown",
   "metadata": {},
   "source": [
    "### **Data path list creating**\n",
    "#### Paths in csv. file reading"
   ]
  },
  {
   "cell_type": "code",
   "execution_count": 3,
   "metadata": {},
   "outputs": [],
   "source": [
    "fgPaths = '/home/admin1/Programming/HIWI_MRT/image_data_augmentation/basic_approaches/citysc_fgPaths.csv'\n",
    "bgPaths = '/home/admin1/Programming/HIWI_MRT/image_data_augmentation/basic_approaches/citysc_bgPaths.csv'\n",
    "\n",
    "save_directory = '/home/admin1/Programming/HIWI_MRT/cityscapes_data/created_dataset/'"
   ]
  },
  {
   "cell_type": "code",
   "execution_count": 4,
   "metadata": {},
   "outputs": [],
   "source": [
    "def pathReader(path):\n",
    "    # Read paths of a CSV file\n",
    "    with open(path, newline='') as fg_bg_data:\n",
    "        reader = csv.reader(fg_bg_data)\n",
    "        data = list(reader)\n",
    "    return data"
   ]
  },
  {
   "cell_type": "code",
   "execution_count": 5,
   "metadata": {},
   "outputs": [],
   "source": [
    "fg_path_list = pathReader(fgPaths)\n",
    "bg_path_list = pathReader(bgPaths)"
   ]
  },
  {
   "cell_type": "markdown",
   "metadata": {},
   "source": [
    "### Program testing\n",
    "#### ! Second variante !"
   ]
  },
  {
   "cell_type": "code",
   "execution_count": 3,
   "metadata": {},
   "outputs": [],
   "source": [
    "# Activate for the testing of the particular images, masks\n",
    "\"\"\"\n",
    "fg_dir = '/home/admin1/Programming/HIWI_MRT/cityscapes_data/foreground/'\n",
    "bg_dir = '/home/admin1/Programming/HIWI_MRT/cityscapes_data/background/'\n",
    "\n",
    "save_directory = '/home/admin1/Programming/HIWI_MRT/cityscapes_data/created_dataset/'\n",
    "\n",
    "\n",
    "fg_path_list = [[fg_dir+'img'+'/aachen_000020_000019_leftImg8bit.png', fg_dir+'mask'+'/aachen_000020_000019_gtFine_labelIds.png'],\n",
    "               [fg_dir+'img'+'/aachen_000031_000019_leftImg8bit.png', fg_dir+'mask'+'/aachen_000031_000019_gtFine_labelIds.png'],\n",
    "               [fg_dir+'img'+'/aachen_000114_000019_leftImg8bit.png', fg_dir+'mask'+'/aachen_000114_000019_gtFine_labelIds.png'],\n",
    "               [fg_dir+'img'+'/cologne_000056_000019_leftImg8bit.png', fg_dir+'mask'+'/cologne_000056_000019_gtFine_labelIds.png'],\n",
    "               [fg_dir+'img'+'/cologne_000100_000019_leftImg8bit.png', fg_dir+'mask'+'/cologne_000100_000019_gtFine_labelIds.png'],\n",
    "               [fg_dir+'img'+'/cologne_000108_000019_leftImg8bit.png', fg_dir+'mask'+'/cologne_000108_000019_gtFine_labelIds.png'],\n",
    "               [fg_dir+'img'+'/cologne_000121_000019_leftImg8bit.png', fg_dir+'mask'+'/cologne_000121_000019_gtFine_labelIds.png']]\n",
    "\n",
    "\n",
    "bg_path_list = [[bg_dir+'img'+'/bremen_000000_000019_leftImg8bit.png', bg_dir+'mask'+'/bremen_000000_000019_gtFine_labelIds.png'],\n",
    "               [bg_dir+'img'+'/bremen_000001_000019_leftImg8bit.png', bg_dir+'mask'+'/bremen_000001_000019_gtFine_labelIds.png'],\n",
    "               [bg_dir+'img'+'/bremen_000009_000019_leftImg8bit.png', bg_dir+'mask'+'/bremen_000009_000019_gtFine_labelIds.png']]\n",
    "\"\"\""
   ]
  },
  {
   "cell_type": "markdown",
   "metadata": {},
   "source": [
    "### **Basic image edit functions**"
   ]
  },
  {
   "cell_type": "code",
   "execution_count": 6,
   "metadata": {},
   "outputs": [],
   "source": [
    "def data_name(fg_path,bg_path): \n",
    "    FGname = '_'.join(fg_path[1].split('/')[-1].split('_')[:-2])\n",
    "    BGname = '_'.join(bg_path[1].split('/')[-1].split('_')[:-2])\n",
    "    \n",
    "    return FGname, BGname"
   ]
  },
  {
   "cell_type": "code",
   "execution_count": 7,
   "metadata": {},
   "outputs": [],
   "source": [
    "def data_loader(fg_path,bg_path):    \n",
    "    # Foreground paths\n",
    "    imgFG_path = fg_path[0]; maskFG_path = fg_path[1]\n",
    "    \n",
    "    # Background paths\n",
    "    imgBG_path = bg_path[0]; maskBG_path = bg_path[1]\n",
    "    \n",
    "    \n",
    "    FGimg = cv2.imread(imgFG_path); FGimg = cv2.cvtColor(FGimg, cv2.COLOR_BGR2RGB)\n",
    "    FGmask = cv2.imread(maskFG_path); FGmask = cv2.cvtColor(FGmask, cv2.COLOR_BGR2RGB)\n",
    "    \n",
    "    BGimg = cv2.imread(imgBG_path); BGimg = cv2.cvtColor(BGimg, cv2.COLOR_BGR2RGB)\n",
    "    BGmask = cv2.imread(maskBG_path); BGmask = cv2.cvtColor(BGmask, cv2.COLOR_BGR2RGB)\n",
    "    \n",
    "    return FGimg, FGmask, BGimg, BGmask     "
   ]
  },
  {
   "cell_type": "code",
   "execution_count": 8,
   "metadata": {},
   "outputs": [],
   "source": [
    "def data_saver(data_name, img, mask, id_data):\n",
    "    img = cv2.cvtColor(img, cv2.COLOR_RGB2BGR)\n",
    "    mask = cv2.cvtColor(mask, cv2.COLOR_RGB2BGR)\n",
    "    \n",
    "    img_path = os.path.join(save_directory, 'img', data_name + '_' + str(id_data) + '.jpg')\n",
    "    mask_path = os.path.join(save_directory, 'mask', data_name + '_' + str(id_data) +'.png')\n",
    "    \n",
    "    cv2.imwrite(img_path, img)\n",
    "    cv2.imwrite(mask_path, mask)"
   ]
  },
  {
   "cell_type": "code",
   "execution_count": 9,
   "metadata": {},
   "outputs": [],
   "source": [
    "def current_id():\n",
    "    path_list = glob.glob(os.path.join(save_directory, 'mask','*'))\n",
    "    \n",
    "    if not path_list:\n",
    "        current_id = 1\n",
    "    else:\n",
    "        current_id = int(len(path_list)+1)\n",
    "    return current_id"
   ]
  },
  {
   "cell_type": "markdown",
   "metadata": {},
   "source": [
    "## **Main function**"
   ]
  },
  {
   "cell_type": "code",
   "execution_count": 10,
   "metadata": {},
   "outputs": [
    {
     "name": "stdout",
     "output_type": "stream",
     "text": [
      "------------------- 1 done --------------------\n",
      "------------------- 6 rest --------------------\n",
      "------------------- 2 done --------------------\n",
      "------------------- 5 rest --------------------\n",
      "------------------- 3 done --------------------\n",
      "------------------- 4 rest --------------------\n",
      "------------------- 4 done --------------------\n",
      "------------------- 3 rest --------------------\n",
      "------------------- 5 done --------------------\n",
      "------------------- 2 rest --------------------\n",
      "------------------- 6 done --------------------\n",
      "------------------- 1 rest --------------------\n",
      "------------------- 7 done --------------------\n",
      "------------------- 0 rest --------------------\n",
      "----------------- 11.27 seconds ----------------\n"
     ]
    }
   ],
   "source": [
    "if __name__ == '__main__':\n",
    "    start_time = time.time()\n",
    "\n",
    "    id_data = current_id()\n",
    "    #id_data = 1\n",
    "    \n",
    "    while  (id_data <= dataset_size):\n",
    "        try:\n",
    "            fg_path = random.choice(fg_path_list);  \n",
    "            bg_path = random.choice(bg_path_list);\n",
    "\n",
    "            # Data name chosing\n",
    "            FGname, BGname = data_name(fg_path, bg_path)\n",
    "\n",
    "            # Data loading\n",
    "            FGimg, FGmask, BGimg, BGmask = data_loader(fg_path, bg_path)\n",
    "            FGheight = FGmask.shape[0]; FGwidth = FGmask.shape[1]\n",
    "            BGheight = BGmask.shape[0]; BGwidth = BGmask.shape[1]\n",
    "\n",
    "\n",
    "            # -------- Transformation/ Translation -------- #\n",
    "            # Foreground fliping\n",
    "            flip_FGimg, flip_FGmask = data_fliper(FGimg, FGmask)\n",
    "\n",
    "            # Background fliping\n",
    "            flip_BGimg, flip_BGmask = data_fliper(BGimg, BGmask)\n",
    "\n",
    "            # Object preprocessing \n",
    "            obj_img, obj_mask, x,y,w,h = obj_preprocesser(flip_FGimg, \n",
    "                                                          flip_FGmask, \n",
    "                                                          BGheight, \n",
    "                                                          BGwidth, \n",
    "                                                          person_value, \n",
    "                                                          FGheight, \n",
    "                                                          FGwidth)\n",
    "  \n",
    "            # Random place finding\n",
    "            stand_y, stand_x = random_place_finder(flip_BGmask,\n",
    "                                                   ground_value, \n",
    "                                                   sidewalk_value, \n",
    "                                                   road_value, \n",
    "                                                   BGheight, \n",
    "                                                   BGwidth,\n",
    "                                                   y,\n",
    "                                                   h)\n",
    "        \n",
    "            # Size of person finding\n",
    "            obj_mask_height = obj_mask.shape[0]; obj_mask_width = obj_mask.shape[1]\n",
    "            stand_obj_height, stand_obj_width = person_size_finder(stand_y, \n",
    "                                                                   w, \n",
    "                                                                   h, \n",
    "                                                                   obj_mask_height, \n",
    "                                                                   obj_mask_width)\n",
    "\n",
    "            # Img and mask of object resizing \n",
    "            # Matting function using\n",
    "            resized_obj_img, resized_obj_mask, alpha, smoother_mask, trimap_mask = obj_resizer(obj_img, \n",
    "                                                                                              obj_mask, \n",
    "                                                                                              stand_obj_height, \n",
    "                                                                                              stand_obj_width, \n",
    "                                                                                              person_value)\n",
    "\n",
    "            # Foreground and background preprocessing \n",
    "            fg_bg_img, fg_bg_mask = fg_bg_preprocesser(resized_obj_img, \n",
    "                                                       smoother_mask, \n",
    "                                                       alpha, \n",
    "                                                       flip_BGimg, \n",
    "                                                       flip_BGmask,\n",
    "                                                       stand_y, stand_x, \n",
    "                                                       stand_obj_height, \n",
    "                                                       stand_obj_width, \n",
    "                                                       BGheight, \n",
    "                                                       BGwidth,\n",
    "                                                       person_value)\n",
    "\n",
    "            # Data saving \n",
    "            data_saver(BGname, fg_bg_img, fg_bg_mask, id_data)\n",
    "\n",
    "            \n",
    "            #plt.imshow(fg_bg_img)  \n",
    "            #plt.show()\n",
    "\n",
    "            #plt.imshow(fg_bg_mask)\n",
    "            #plt.show() \n",
    "\n",
    "\n",
    "            print(\"------------------- %s done --------------------\" % (id_data))\n",
    "            print(\"------------------- %s rest --------------------\" % (dataset_size - id_data))\n",
    "            id_data += 1\n",
    "        except:\n",
    "                continue\n",
    "    print(\"----------------- %s seconds ----------------\" % ( round((time.time() - start_time), 2) ))"
   ]
  },
  {
   "cell_type": "code",
   "execution_count": null,
   "metadata": {},
   "outputs": [],
   "source": []
  }
 ],
 "metadata": {
  "kernelspec": {
   "display_name": "env_dj",
   "language": "python",
   "name": "env_dj"
  },
  "language_info": {
   "codemirror_mode": {
    "name": "ipython",
    "version": 3
   },
   "file_extension": ".py",
   "mimetype": "text/x-python",
   "name": "python",
   "nbconvert_exporter": "python",
   "pygments_lexer": "ipython3",
   "version": "3.6.8"
  }
 },
 "nbformat": 4,
 "nbformat_minor": 2
}
